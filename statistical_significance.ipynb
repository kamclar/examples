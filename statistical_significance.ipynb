{
 "cells": [
  {
   "cell_type": "code",
   "execution_count": 1,
   "id": "subject-russell",
   "metadata": {},
   "outputs": [],
   "source": [
    "import numpy as np\n",
    "import pandas as pd\n",
    "from scipy import stats\n",
    "import matplotlib.pyplot as plt\n",
    "\n",
    "from scipy.stats import uniform\n",
    "from sklearn.datasets import load_iris\n",
    "from sklearn.model_selection import cross_validate\n",
    "from sklearn.linear_model import LogisticRegression\n",
    "from sklearn.model_selection import KFold, RepeatedKFold"
   ]
  },
  {
   "cell_type": "code",
   "execution_count": 2,
   "id": "little-female",
   "metadata": {},
   "outputs": [],
   "source": [
    "iris = load_iris()\n",
    "logistic = LogisticRegression(solver='saga', tol=1e-2, max_iter=200, random_state=0)"
   ]
  },
  {
   "cell_type": "code",
   "execution_count": 3,
   "id": "sealed-mirror",
   "metadata": {},
   "outputs": [
    {
     "data": {
      "text/plain": [
       "0.9746666666666668"
      ]
     },
     "execution_count": 3,
     "metadata": {},
     "output_type": "execute_result"
    }
   ],
   "source": [
    "cycles = 10\n",
    "\n",
    "rs = np.arange(cycles)\n",
    "scoring = ['accuracy']\n",
    "scores = []\n",
    "for i in range(cycles):\n",
    "    Kfold_train = KFold(n_splits=10, random_state=rs[i], shuffle=True)\n",
    "    score1 = cross_validate(logistic, iris.data, iris.target, cv=Kfold_train, scoring=scoring)\n",
    "    scores.append([np.mean(score1['test_accuracy']), np.std(score1['test_accuracy'])])\n",
    "\n",
    "df_Scores1 = pd.DataFrame(scores)\n",
    "df_Scores1[0].mean()"
   ]
  },
  {
   "cell_type": "code",
   "execution_count": 4,
   "id": "insured-parks",
   "metadata": {},
   "outputs": [
    {
     "data": {
      "text/plain": [
       "<function matplotlib.pyplot.show(close=None, block=None)>"
      ]
     },
     "execution_count": 4,
     "metadata": {},
     "output_type": "execute_result"
    },
    {
     "data": {
      "image/png": "[encoded data removed]",
      "text/plain": [
       "<Figure size 432x288 with 1 Axes>"
      ]
     },
     "metadata": {
      "needs_background": "light"
     },
     "output_type": "display_data"
    }
   ],
   "source": [
    "plt.bar(np.arange(len(score1['test_accuracy'])),score1['test_accuracy'])\n",
    "plt.title('CV=10, results of the last iter')\n",
    "plt.show"
   ]
  },
  {
   "cell_type": "code",
   "execution_count": 5,
   "id": "norwegian-soldier",
   "metadata": {},
   "outputs": [
    {
     "data": {
      "text/plain": [
       "0.9686666666666668"
      ]
     },
     "execution_count": 5,
     "metadata": {},
     "output_type": "execute_result"
    }
   ],
   "source": [
    "scores = []\n",
    "for i in range(cycles):\n",
    "    Kfold_train = KFold(n_splits=3, random_state=rs[i], shuffle=True)\n",
    "    score2 = cross_validate(logistic, iris.data, iris.target, cv=Kfold_train, scoring=scoring)\n",
    "    scores.append([np.mean(score2['test_accuracy']), np.std(score2['test_accuracy'])])\n",
    "\n",
    "df_Scores2 = pd.DataFrame(scores)\n",
    "df_Scores2[0].mean()"
   ]
  },
  {
   "cell_type": "code",
   "execution_count": 6,
   "id": "southwest-manufacturer",
   "metadata": {},
   "outputs": [
    {
     "data": {
      "text/plain": [
       "<function matplotlib.pyplot.show(close=None, block=None)>"
      ]
     },
     "execution_count": 6,
     "metadata": {},
     "output_type": "execute_result"
    },
    {
     "data": {
      "image/png": "[encoded data removed]",
      "text/plain": [
       "<Figure size 432x288 with 1 Axes>"
      ]
     },
     "metadata": {
      "needs_background": "light"
     },
     "output_type": "display_data"
    }
   ],
   "source": [
    "plt.bar(np.arange(len(score2['test_accuracy'])),score2['test_accuracy'])\n",
    "plt.title('CV=3, results of the last iter')\n",
    "plt.show"
   ]
  },
  {
   "cell_type": "code",
   "execution_count": 7,
   "id": "through-tourism",
   "metadata": {},
   "outputs": [
    {
     "name": "stdout",
     "output_type": "stream",
     "text": [
      "50\n",
      "50\n",
      "50\n"
     ]
    }
   ],
   "source": [
    "# When the n_splits=10, the size of the testing group gets quite small\n",
    "for train_index, test_index in Kfold_train.split(iris.data, iris.target):\n",
    "    print(len(test_index))"
   ]
  },
  {
   "cell_type": "code",
   "execution_count": 8,
   "id": "operating-heart",
   "metadata": {},
   "outputs": [
    {
     "data": {
      "text/plain": [
       "0.9682666666666666"
      ]
     },
     "execution_count": 8,
     "metadata": {},
     "output_type": "execute_result"
    }
   ],
   "source": [
    "scores = []\n",
    "for i in range(cycles):\n",
    "    Kfold_train = RepeatedKFold(n_splits=2, n_repeats=5, random_state=rs[i])\n",
    "    score3 = cross_validate(logistic, iris.data, iris.target, cv=Kfold_train, scoring=scoring)\n",
    "    scores.append([np.mean(score3['test_accuracy']), np.std(score3['test_accuracy'])])\n",
    "\n",
    "df_Scores3 = pd.DataFrame(scores)\n",
    "df_Scores3[0].mean()"
   ]
  },
  {
   "cell_type": "code",
   "execution_count": 9,
   "id": "aquatic-studio",
   "metadata": {},
   "outputs": [
    {
     "data": {
      "text/plain": [
       "<function matplotlib.pyplot.show(close=None, block=None)>"
      ]
     },
     "execution_count": 9,
     "metadata": {},
     "output_type": "execute_result"
    },
    {
     "data": {
      "image/png": "[encoded data removed]",
      "text/plain": [
       "<Figure size 432x288 with 1 Axes>"
      ]
     },
     "metadata": {
      "needs_background": "light"
     },
     "output_type": "display_data"
    }
   ],
   "source": [
    "plt.bar(np.arange(len(score3['test_accuracy'])),score3['test_accuracy'])\n",
    "plt.title('CV=5x2, results of the last iter')\n",
    "plt.show"
   ]
  },
  {
   "cell_type": "code",
   "execution_count": 10,
   "id": "above-arrest",
   "metadata": {},
   "outputs": [
    {
     "name": "stdout",
     "output_type": "stream",
     "text": [
      "75\n",
      "75\n",
      "75\n",
      "75\n",
      "75\n",
      "75\n",
      "75\n",
      "75\n",
      "75\n",
      "75\n"
     ]
    }
   ],
   "source": [
    "for train_index, test_index in Kfold_train.split(iris.data, iris.target):\n",
    "    print(len(test_index))"
   ]
  },
  {
   "cell_type": "code",
   "execution_count": 11,
   "id": "primary-shanghai",
   "metadata": {},
   "outputs": [
    {
     "data": {
      "text/plain": [
       "(0.9746666666666668, 0.9686666666666668, 0.9682666666666666)"
      ]
     },
     "execution_count": 11,
     "metadata": {},
     "output_type": "execute_result"
    }
   ],
   "source": [
    "# ten cycles of: 10xcv, 3xcv, 5x2cv\n",
    "df_Scores1[0].mean(), df_Scores2[0].mean(), df_Scores3[0].mean()"
   ]
  },
  {
   "cell_type": "markdown",
   "id": "hidden-activation",
   "metadata": {},
   "source": [
    "## Let's do some statistical testing"
   ]
  },
  {
   "cell_type": "code",
   "execution_count": 12,
   "id": "informed-polls",
   "metadata": {},
   "outputs": [
    {
     "data": {
      "text/plain": [
       "KruskalResult(statistic=7.2017969451931645, pvalue=0.02729918385671338)"
      ]
     },
     "execution_count": 12,
     "metadata": {},
     "output_type": "execute_result"
    }
   ],
   "source": [
    "# perform Kruskal-Wallis Test \n",
    "# Here, we can reject nul hypothesis\n",
    "stats.kruskal(df_Scores1[0],\n",
    "              df_Scores2[0],\n",
    "              df_Scores3[0],\n",
    "             )"
   ]
  },
  {
   "cell_type": "code",
   "execution_count": 13,
   "id": "false-customs",
   "metadata": {},
   "outputs": [
    {
     "data": {
      "text/plain": [
       "WilcoxonResult(statistic=6.0, pvalue=0.02734375)"
      ]
     },
     "execution_count": 13,
     "metadata": {},
     "output_type": "execute_result"
    }
   ],
   "source": [
    "# Here, we can reject nul hypothesis\n",
    "stats.wilcoxon(df_Scores1[0], df_Scores2[0],)"
   ]
  },
  {
   "cell_type": "code",
   "execution_count": 14,
   "id": "selected-aruba",
   "metadata": {},
   "outputs": [
    {
     "name": "stderr",
     "output_type": "stream",
     "text": [
      "/home/clarovak/.conda/envs/trf/lib/python3.6/site-packages/scipy/stats/morestats.py:2957: UserWarning: Exact p-value calculation does not work if there are ties. Switching to normal approximation.\n",
      "  warnings.warn(\"Exact p-value calculation does not work if there are \"\n",
      "/home/clarovak/.conda/envs/trf/lib/python3.6/site-packages/scipy/stats/morestats.py:2971: UserWarning: Sample size too small for normal approximation.\n",
      "  warnings.warn(\"Sample size too small for normal approximation.\")\n"
     ]
    },
    {
     "data": {
      "text/plain": [
       "WilcoxonResult(statistic=2.0, pvalue=0.015067042312151446)"
      ]
     },
     "execution_count": 14,
     "metadata": {},
     "output_type": "execute_result"
    }
   ],
   "source": [
    "# Here, we can reject nul hypothesis\n",
    "stats.wilcoxon(df_Scores1[0], df_Scores3[0])"
   ]
  },
  {
   "cell_type": "code",
   "execution_count": 15,
   "id": "saving-sodium",
   "metadata": {},
   "outputs": [
    {
     "data": {
      "text/plain": [
       "WilcoxonResult(statistic=25.0, pvalue=0.845703125)"
      ]
     },
     "execution_count": 15,
     "metadata": {},
     "output_type": "execute_result"
    }
   ],
   "source": [
    "stats.wilcoxon(df_Scores2[0], df_Scores3[0])"
   ]
  },
  {
   "cell_type": "code",
   "execution_count": 16,
   "id": "streaming-clearing",
   "metadata": {},
   "outputs": [
    {
     "data": {
      "text/plain": [
       "MannwhitneyuResult(statistic=20.0, pvalue=0.011885898181192426)"
      ]
     },
     "execution_count": 16,
     "metadata": {},
     "output_type": "execute_result"
    }
   ],
   "source": [
    "# Here, we can reject nul hypothesis\n",
    "stats.mannwhitneyu(df_Scores1[0], df_Scores2[0])"
   ]
  },
  {
   "cell_type": "code",
   "execution_count": 17,
   "id": "grand-longitude",
   "metadata": {},
   "outputs": [
    {
     "data": {
      "text/plain": [
       "MannwhitneyuResult(statistic=20.0, pvalue=0.01207585473328675)"
      ]
     },
     "execution_count": 17,
     "metadata": {},
     "output_type": "execute_result"
    }
   ],
   "source": [
    "# Here, we can reject nul hypothesis\n",
    "stats.mannwhitneyu(df_Scores1[0], df_Scores3[0])"
   ]
  },
  {
   "cell_type": "code",
   "execution_count": 18,
   "id": "electric-designer",
   "metadata": {},
   "outputs": [
    {
     "data": {
      "text/plain": [
       "MannwhitneyuResult(statistic=42.0, pvalue=0.2842808355089873)"
      ]
     },
     "execution_count": 18,
     "metadata": {},
     "output_type": "execute_result"
    }
   ],
   "source": [
    "stats.mannwhitneyu(df_Scores2[0], df_Scores3[0])"
   ]
  },
  {
   "cell_type": "code",
   "execution_count": null,
   "id": "spiritual-truth",
   "metadata": {},
   "outputs": [],
   "source": []
  }
 ],
 "metadata": {
  "kernelspec": {
   "display_name": "Python 3",
   "language": "python",
   "name": "python3"
  },
  "language_info": {
   "codemirror_mode": {
    "name": "ipython",
    "version": 3
   },
   "file_extension": ".py",
   "mimetype": "text/x-python",
   "name": "python",
   "nbconvert_exporter": "python",
   "pygments_lexer": "ipython3",
   "version": "3.6.13"
  }
 },
 "nbformat": 4,
 "nbformat_minor": 5
}
